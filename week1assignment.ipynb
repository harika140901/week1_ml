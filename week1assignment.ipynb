{
 "cells": [
  {
   "cell_type": "code",
   "execution_count": 45,
   "metadata": {
    "colab": {},
    "colab_type": "code",
    "id": "F-6bE0dYcBgA"
   },
   "outputs": [],
   "source": [
    "## Import stuff\n",
    " \n",
    "import numpy as np\n",
    "import matplotlib.pyplot as plt\n",
    "from sklearn import datasets, linear_model, metrics"
   ]
  },
  {
   "cell_type": "code",
   "execution_count": 46,
   "metadata": {
    "colab": {},
    "colab_type": "code",
    "id": "gK71NIhMcEs5"
   },
   "outputs": [],
   "source": [
    "## Load the diabetes dataset\n",
    "diabetes = datasets.load_diabetes()\n",
    "diabetes_X = diabetes.data # matrix of dimensions 442x10\n",
    " \n",
    "# Split the data into training/testing sets\n",
    "diabetes_X_train = diabetes_X[:-20]\n",
    "diabetes_X_test = diabetes_X[-20:]\n",
    " \n",
    "# Split the targets into training/testing sets\n",
    "diabetes_y_train = diabetes.target[:-20]\n",
    "diabetes_y_test = diabetes.target[-20:]"
   ]
  },
  {
   "cell_type": "code",
   "execution_count": 61,
   "metadata": {
    "colab": {},
    "colab_type": "code",
    "id": "XJTg22ybcHsl"
   },
   "outputs": [
    {
     "name": "stdout",
     "output_type": "stream",
     "text": [
      "Epoch 0: 14067.611991\n",
      "Epoch 5000: 1749.988766\n",
      "Epoch 10000: 1551.092615\n",
      "Epoch 15000: 1476.236155\n",
      "Epoch 20000: 1439.465728\n",
      "Epoch 25000: 1420.192017\n",
      "Epoch 30000: 1409.809273\n",
      "Epoch 35000: 1404.087511\n",
      "Epoch 40000: 1400.858011\n",
      "Epoch 45000: 1398.985564\n",
      "Epoch 50000: 1397.865699\n",
      "Epoch 55000: 1397.171189\n",
      "Epoch 60000: 1396.721904\n",
      "Epoch 65000: 1396.416960\n",
      "Epoch 70000: 1396.198824\n",
      "Epoch 75000: 1396.034064\n",
      "Epoch 80000: 1395.902868\n",
      "Epoch 85000: 1395.793261\n",
      "Epoch 90000: 1395.697859\n",
      "Epoch 95000: 1395.612021\n"
     ]
    },
    {
     "data": {
      "image/png": "[encoded data removed]",
      "text/plain": [
       "<Figure size 432x288 with 1 Axes>"
      ]
     },
     "metadata": {
      "needs_background": "light"
     },
     "output_type": "display_data"
    }
   ],
   "source": [
    "# train\n",
    "X = diabetes_X_train\n",
    "y = diabetes_y_train\n",
    " \n",
    "# train: init\n",
    "W = np.zeros(10)\n",
    "b = 0\n",
    " \n",
    "learning_rate = 0.03\n",
    "epochs = 100000\n",
    "loss=[]\n",
    "# train: gradient descent\n",
    "for i in range(epochs):\n",
    "    # calculate predictions\n",
    "    predict=np.dot(X,W)+b\n",
    " \n",
    "    # calculate error and cost (mean squared error)\n",
    "    error=predict-y\n",
    "    mean_squared_error=np.sum(error**2)/(2*442)\n",
    "    loss.append(mean_squared_error)\n",
    " \n",
    "    # calculate gradients\n",
    "    W_grad=np.dot(X.T,error)\n",
    "    b_grad=np.sum(error)\n",
    " \n",
    "    # update parameters\n",
    "    W-=(learning_rate*W_grad)/442\n",
    "    b-=(learning_rate*b_grad)/442\n",
    "\n",
    "    # diagnostic output\n",
    "    if i % 5000 == 0: print(\"Epoch %d: %f\" % (i, mean_squared_error))\n",
    "        \n",
    "plt.plot(range(epochs),loss)\n",
    "plt.show()\n"
   ]
  },
  {
   "cell_type": "code",
   "execution_count": 42,
   "metadata": {
    "colab": {},
    "colab_type": "code",
    "id": "uvSdTn-0cKJL"
   },
   "outputs": [
    {
     "name": "stdout",
     "output_type": "stream",
     "text": [
      "Coefficients: \n",
      " [ 40.47641887  -6.07211064 154.93752281 113.18241698  38.69237045\n",
      "  25.74094352 -96.06662313  98.25888787 143.83985697  91.0378966 ]\n",
      "153.2331612813454\n",
      "Mean squared error: 80.13\n",
      "========================================================================================================================\n"
     ]
    }
   ],
   "source": [
    "# test\n",
    "X = diabetes_X_test\n",
    "y = diabetes_y_test\n",
    " \n",
    "# calculate predictions + calculate error and cost (same code as above)\n",
    "final=np.dot(X,W)+b\n",
    "err=final-y\n",
    "cost=np.dot(err.T,err)/(2*442)\n",
    "print('Coefficients: \\n', W)\n",
    "print(b)\n",
    "print(\"Mean squared error: %.2f\" % cost)\n",
    "print(\"=\"*120)\n",
    "\n"
   ]
  },
  {
   "cell_type": "code",
   "execution_count": null,
   "metadata": {},
   "outputs": [],
   "source": []
  }
 ],
 "metadata": {
  "colab": {
   "name": "week1assignment.ipynb",
   "provenance": []
  },
  "kernelspec": {
   "display_name": "Python 3",
   "language": "python",
   "name": "python3"
  },
  "language_info": {
   "codemirror_mode": {
    "name": "ipython",
    "version": 3
   },
   "file_extension": ".py",
   "mimetype": "text/x-python",
   "name": "python",
   "nbconvert_exporter": "python",
   "pygments_lexer": "ipython3",
   "version": "3.7.4"
  }
 },
 "nbformat": 4,
 "nbformat_minor": 1
}
